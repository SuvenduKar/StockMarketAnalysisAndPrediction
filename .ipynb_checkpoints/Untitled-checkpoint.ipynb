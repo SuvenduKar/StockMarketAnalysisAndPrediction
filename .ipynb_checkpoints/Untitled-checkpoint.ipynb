{
 "cells": [
  {
   "cell_type": "markdown",
   "id": "4fdb5850-0d7b-410c-888d-8fe258ca6a6f",
   "metadata": {},
   "source": [
    "The Stock Market dataset from Kaggle, which includes daily stock market prices for the NASDAQ, NYSE, and S&P500, is used in this notebook to investigate deep learning methods. **Creating a model that could predict the closing price for the upcoming month was the aim.**\n",
    "\n",
    "Data wrangling, feature engineering, dividing the data into test, validation, and training sets, and getting ready for deep learning modeling were all part of the workflow.\n",
    "\n",
    "\n",
    " We then trained a variety of models, such as CNN, combination models, autoregressive LSTM, baseline, linear, and deep neural networks. Every model sought to increase the precision of our projections. "
   ]
  },
  {
   "cell_type": "code",
   "execution_count": null,
   "id": "fa006a1f-7a64-4687-81ed-42766bc681c4",
   "metadata": {},
   "outputs": [],
   "source": []
  }
 ],
 "metadata": {
  "kernelspec": {
   "display_name": "Python 3 (ipykernel)",
   "language": "python",
   "name": "python3"
  },
  "language_info": {
   "codemirror_mode": {
    "name": "ipython",
    "version": 3
   },
   "file_extension": ".py",
   "mimetype": "text/x-python",
   "name": "python",
   "nbconvert_exporter": "python",
   "pygments_lexer": "ipython3",
   "version": "3.12.1"
  }
 },
 "nbformat": 4,
 "nbformat_minor": 5
}
